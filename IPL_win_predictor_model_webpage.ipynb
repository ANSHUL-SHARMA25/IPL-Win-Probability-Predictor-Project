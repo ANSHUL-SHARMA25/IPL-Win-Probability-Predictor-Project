{
  "nbformat": 4,
  "nbformat_minor": 0,
  "metadata": {
    "colab": {
      "provenance": [],
      "authorship_tag": "ABX9TyOoS6+b7n85O8Py86YYJVki",
      "include_colab_link": true
    },
    "kernelspec": {
      "name": "python3",
      "display_name": "Python 3"
    },
    "language_info": {
      "name": "python"
    }
  },
  "cells": [
    {
      "cell_type": "markdown",
      "metadata": {
        "id": "view-in-github",
        "colab_type": "text"
      },
      "source": [
        "<a href=\"https://colab.research.google.com/github/ANSHUL-SHARMA25/IPL-Win-Probability-Predictor-Project/blob/main/IPL_win_predictor_model_webpage.ipynb\" target=\"_parent\"><img src=\"https://colab.research.google.com/assets/colab-badge.svg\" alt=\"Open In Colab\"/></a>"
      ]
    },
    {
      "cell_type": "code",
      "execution_count": null,
      "metadata": {
        "id": "3MoguO_FWi45",
        "colab": {
          "base_uri": "https://localhost:8080/"
        },
        "outputId": "a9f9984d-6a6b-410c-dec5-0b4e64f168e8"
      },
      "outputs": [
        {
          "output_type": "stream",
          "name": "stdout",
          "text": [
            "\u001b[2K     \u001b[90m━━━━━━━━━━━━━━━━━━━━━━━━━━━━━━━━━━━━━━━━\u001b[0m \u001b[32m8.1/8.1 MB\u001b[0m \u001b[31m17.9 MB/s\u001b[0m eta \u001b[36m0:00:00\u001b[0m\n",
            "\u001b[2K     \u001b[90m━━━━━━━━━━━━━━━━━━━━━━━━━━━━━━━━━━━━━━━━\u001b[0m \u001b[32m53.0/53.0 kB\u001b[0m \u001b[31m4.4 MB/s\u001b[0m eta \u001b[36m0:00:00\u001b[0m\n",
            "\u001b[2K     \u001b[90m━━━━━━━━━━━━━━━━━━━━━━━━━━━━━━━━━━━━━━━━\u001b[0m \u001b[32m195.4/195.4 kB\u001b[0m \u001b[31m16.3 MB/s\u001b[0m eta \u001b[36m0:00:00\u001b[0m\n",
            "\u001b[2K     \u001b[90m━━━━━━━━━━━━━━━━━━━━━━━━━━━━━━━━━━━━━━━━\u001b[0m \u001b[32m4.8/4.8 MB\u001b[0m \u001b[31m47.6 MB/s\u001b[0m eta \u001b[36m0:00:00\u001b[0m\n",
            "\u001b[2K     \u001b[90m━━━━━━━━━━━━━━━━━━━━━━━━━━━━━━━━━━━━━━━━\u001b[0m \u001b[32m83.0/83.0 kB\u001b[0m \u001b[31m5.3 MB/s\u001b[0m eta \u001b[36m0:00:00\u001b[0m\n",
            "\u001b[2K     \u001b[90m━━━━━━━━━━━━━━━━━━━━━━━━━━━━━━━━━━━━━━━━\u001b[0m \u001b[32m62.7/62.7 kB\u001b[0m \u001b[31m5.8 MB/s\u001b[0m eta \u001b[36m0:00:00\u001b[0m\n",
            "\u001b[?25h"
          ]
        }
      ],
      "source": [
        "! pip install streamlit -q"
      ]
    },
    {
      "cell_type": "code",
      "source": [
        "%%writefile app.py\n",
        "import streamlit as st\n",
        "import pickle\n",
        "import pandas as pd\n",
        "\n",
        "teams = ['Sunrisers Hyderabad',\n",
        " 'Mumbai Indians',\n",
        " 'Royal Challengers Bangalore',\n",
        " 'Kolkata Knight Riders',\n",
        " 'Kings XI Punjab',\n",
        " 'Chennai Super Kings',\n",
        " 'Rajasthan Royals',\n",
        " 'Delhi Capitals']\n",
        "cities = ['Hyderabad', 'Bangalore', 'Mumbai', 'Indore', 'Kolkata', 'Delhi',\n",
        "       'Chandigarh', 'Jaipur', 'Chennai', 'Cape Town', 'Port Elizabeth',\n",
        "       'Durban', 'Centurion', 'East London', 'Johannesburg', 'Kimberley',\n",
        "       'Bloemfontein', 'Ahmedabad', 'Cuttack', 'Nagpur', 'Dharamsala',\n",
        "       'Visakhapatnam', 'Pune', 'Raipur', 'Ranchi', 'Abu Dhabi',\n",
        "       'Sharjah', 'Mohali', 'Bengaluru']\n",
        "\n",
        "pipe = pickle.load(open('/content/drive/MyDrive/ipl/New folder/pipe.pkl','rb'))\n",
        "\n",
        "\n",
        "\n",
        "st.title('IPL Win Predictor')\n",
        "from PIL import Image\n",
        "img = Image.open('/content/drive/MyDrive/ipl/New folder/python.jpg')\n",
        "st.image(img,caption='IPL')\n",
        "col1, col2 = st.columns(2)\n",
        "\n",
        "with col1:\n",
        "    batting_team = st.selectbox('Select the batting team',sorted(teams))\n",
        "with col2:\n",
        "    bowling_team = st.selectbox('Select the bowling team',sorted(teams))\n",
        "selected_city=st.selectbox('Select host city',sorted(cities))\n",
        "target = st.number_input('Target')\n",
        "col3,col4,col5 = st.columns(3)\n",
        "with col3:\n",
        "    score = st.number_input('Score')\n",
        "with col4:\n",
        "    overs = st.number_input('Overs completed')\n",
        "with col5:\n",
        "    wickets = st.number_input('Wickets out')\n",
        "if st.button('Predict Probability'):\n",
        "    runs_left = target - score\n",
        "    balls_left = 120 - (overs*6)\n",
        "    wickets = 10 - wickets\n",
        "    crr = score/overs\n",
        "    rrr = (runs_left*6)/balls_left\n",
        "\n",
        "    input_df = pd.DataFrame({'batting_team':[batting_team],'bowling_team':[bowling_team],'city':[selected_city],\n",
        "    'runs_left':[runs_left],'balls_left':[balls_left],'wickets':[wickets],'total_runs_x':[target],'crr':[crr],'rrr':[rrr]})\n",
        "\n",
        "    result = pipe.predict_proba(input_df)\n",
        "    loss = result[0][0]\n",
        "    win = result[0][1]\n",
        "    st.header(batting_team + \"- \" + str(round(win*100)) + \"%\")\n",
        "    st.header(bowling_team + \"- \" + str(round(loss*100)) + \"%\")\n",
        "\n",
        "\n"
      ],
      "metadata": {
        "id": "4JG3KwicWu5y",
        "colab": {
          "base_uri": "https://localhost:8080/"
        },
        "outputId": "12d07109-5d19-4517-bfe7-8f557516bcca"
      },
      "execution_count": null,
      "outputs": [
        {
          "output_type": "stream",
          "name": "stdout",
          "text": [
            "Writing app.py\n"
          ]
        }
      ]
    }
  ]
}